{
 "cells": [
  {
   "cell_type": "code",
   "execution_count": 1,
   "outputs": [],
   "source": [
    "import warnings\n",
    "warnings.filterwarnings('ignore')"
   ],
   "metadata": {
    "collapsed": false
   }
  },
  {
   "cell_type": "code",
   "execution_count": 2,
   "metadata": {
    "collapsed": true
   },
   "outputs": [],
   "source": [
    "# Load Dataset\n",
    "import pandas as pd\n",
    "train_df = pd.read_csv('data/train.csv',header=0)\n",
    "test_df = pd.read_csv('data/test.csv',header=0)"
   ]
  },
  {
   "cell_type": "code",
   "execution_count": 3,
   "outputs": [],
   "source": [
    "# Fill null data with blank\n",
    "train_df = train_df.fillna(' ')\n",
    "test_df = test_df.fillna(' ')"
   ],
   "metadata": {
    "collapsed": false
   }
  },
  {
   "cell_type": "code",
   "execution_count": 4,
   "outputs": [],
   "source": [
    "# Combine all columns into a new one\n",
    "train_df['all_info'] = train_df['text'] + train_df['title'] + train_df['author']\n",
    "test_df['all_info'] = test_df['text'] + test_df['title'] + test_df['author']"
   ],
   "metadata": {
    "collapsed": false
   }
  },
  {
   "cell_type": "code",
   "execution_count": 5,
   "outputs": [],
   "source": [
    "# Defining target variable\n",
    "target = train_df['label'].values"
   ],
   "metadata": {
    "collapsed": false
   }
  },
  {
   "cell_type": "code",
   "execution_count": 6,
   "outputs": [],
   "source": [
    "# Word Tokenization\n",
    "import tensorflow as tf\n",
    "import tensorflow.keras as keras\n",
    "from tensorflow.keras.preprocessing.text import Tokenizer"
   ],
   "metadata": {
    "collapsed": false
   }
  },
  {
   "cell_type": "code",
   "execution_count": 7,
   "outputs": [],
   "source": [
    "# Replace out of vocabulary token using oov_token=<OOV>\n",
    "# Creates a vocabulary index based on word frequency\n",
    "tokenizer = Tokenizer(oov_token = \"<OOV>\", num_words=6000)"
   ],
   "metadata": {
    "collapsed": false
   }
  },
  {
   "cell_type": "code",
   "execution_count": 8,
   "outputs": [],
   "source": [
    "# Fit the tokenizer on the texts and convert them into\n",
    "# sequences of integers which uses the vocabulary index\n",
    "# created by fitting the tokenizer\n",
    "tokenizer.fit_on_texts(train_df['all_info'])"
   ],
   "metadata": {
    "collapsed": false
   }
  },
  {
   "cell_type": "code",
   "execution_count": 9,
   "outputs": [],
   "source": [
    "# The sequences could be of different lengths,\n",
    "# pad_sequences is used to pad them with zeros at the end using padding=post\n",
    "# now each sequence will have a length of 40\n",
    "from tensorflow.keras.preprocessing.sequence import pad_sequences\n",
    "max_length = 40\n",
    "vocab_size = 6000\n",
    "\n",
    "sequences_train = tokenizer.texts_to_sequences(train_df['all_info'])\n",
    "sequences_test = tokenizer.texts_to_sequences(test_df['all_info'])\n",
    "\n",
    "padded_train = pad_sequences(sequences_train, padding = 'post', maxlen=max_length)\n",
    "padded_test = pad_sequences(sequences_test, padding = 'post', maxlen=max_length)"
   ],
   "metadata": {
    "collapsed": false
   }
  },
  {
   "cell_type": "code",
   "execution_count": 10,
   "outputs": [
    {
     "name": "stdout",
     "output_type": "stream",
     "text": [
      "(16640, 40)   (16640,)\n"
     ]
    }
   ],
   "source": [
    "# Split into training and testing set\n",
    "from sklearn.model_selection import train_test_split\n",
    "\n",
    "X_train, X_test, y_train, y_test = train_test_split(padded_train, target, test_size=0.2)\n",
    "print(X_train.shape, \" \", y_train.shape)"
   ],
   "metadata": {
    "collapsed": false
   }
  },
  {
   "cell_type": "code",
   "execution_count": 11,
   "outputs": [
    {
     "name": "stdout",
     "output_type": "stream",
     "text": [
      "Loaded 400000 word vectors.\n"
     ]
    }
   ],
   "source": [
    "# Loading GloVe Dataset\n",
    "# https://nlp.stanford.edu/projects/glove/\n",
    "import numpy as np\n",
    "embeddings_index = dict()\n",
    "f = open('data/glove.6B.300d.txt', encoding='utf-8')\n",
    "for line in f:\n",
    "    values = line.split()\n",
    "    word = values[0]\n",
    "    coefs = np.asarray(values[1:], dtype='float32')\n",
    "    embeddings_index[word] = coefs\n",
    "f.close()\n",
    "print('Loaded {} word vectors.'.format(len(embeddings_index)))"
   ],
   "metadata": {
    "collapsed": false
   }
  },
  {
   "cell_type": "code",
   "execution_count": 12,
   "outputs": [
    {
     "name": "stdout",
     "output_type": "stream",
     "text": [
      "Get vocab_size\n",
      "Create the embedding matrix\n"
     ]
    }
   ],
   "source": [
    "# create a weight matrix for words in training docs\n",
    "print('Get vocab_size')\n",
    "vocab_size = len(tokenizer.word_index) + 1\n",
    "\n",
    "print('Create the embedding matrix')\n",
    "embedding_matrix = np.zeros((vocab_size, 300))\n",
    "for word, i in tokenizer.word_index.items():\n",
    "    embedding_vector = embeddings_index.get(word)\n",
    "    if embedding_vector is not None:\n",
    "        embedding_matrix[i] = embedding_vector"
   ],
   "metadata": {
    "collapsed": false
   }
  },
  {
   "cell_type": "code",
   "execution_count": 13,
   "outputs": [
    {
     "name": "stdout",
     "output_type": "stream",
     "text": [
      "Model: \"sequential\"\n",
      "_________________________________________________________________\n",
      " Layer (type)                Output Shape              Param #   \n",
      "=================================================================\n",
      " embedding (Embedding)       (None, 40, 300)           76332600  \n",
      "                                                                 \n",
      " lstm (LSTM)                 (None, 100)               160400    \n",
      "                                                                 \n",
      " dropout (Dropout)           (None, 100)               0         \n",
      "                                                                 \n",
      " dense (Dense)               (None, 64)                6464      \n",
      "                                                                 \n",
      " dropout_1 (Dropout)         (None, 64)                0         \n",
      "                                                                 \n",
      " flatten (Flatten)           (None, 64)                0         \n",
      "                                                                 \n",
      " dense_1 (Dense)             (None, 1)                 65        \n",
      "                                                                 \n",
      "=================================================================\n",
      "Total params: 76,499,529\n",
      "Trainable params: 166,929\n",
      "Non-trainable params: 76,332,600\n",
      "_________________________________________________________________\n",
      "None\n"
     ]
    }
   ],
   "source": [
    "# Classification Model\n",
    "from tensorflow.keras.models import Sequential\n",
    "from tensorflow.keras.layers import LSTM\n",
    "from tensorflow.keras.layers import Dense\n",
    "from tensorflow.keras.layers import Dropout\n",
    "from tensorflow.keras.layers import Embedding\n",
    "from tensorflow.keras.layers import Flatten\n",
    "def get_simple_GloVe_model():\n",
    "    model = Sequential()\n",
    "    model.add(Embedding(vocab_size,\n",
    "                        300,\n",
    "                        weights=[embedding_matrix],\n",
    "                        input_length=max_length,\n",
    "                        trainable=False))\n",
    "    model.add(LSTM(100))\n",
    "    model.add(Dropout(0.3))\n",
    "    model.add(Dense(64, activation='relu'))\n",
    "    model.add(Dropout(0.3))\n",
    "    model.add(Flatten())\n",
    "    model.add(Dense(1, activation='sigmoid'))\n",
    "    return model\n",
    "\n",
    "model = get_simple_GloVe_model()\n",
    "print(model.summary())"
   ],
   "metadata": {
    "collapsed": false
   }
  },
  {
   "cell_type": "code",
   "execution_count": 14,
   "outputs": [],
   "source": [
    "# Compiling the model\n",
    "model.compile(loss='binary_crossentropy',\n",
    "              optimizer='adam',\n",
    "              metrics=[tf.keras.metrics.Precision(), tf.keras.metrics.Recall()])"
   ],
   "metadata": {
    "collapsed": false
   }
  },
  {
   "cell_type": "code",
   "execution_count": 15,
   "outputs": [],
   "source": [
    "# Store best model in file\n",
    "# Stop if last 15 epochs show no improvement\n",
    "best_model_file_name = \"models/best_model_LSTM_with_GloVe.hdf5\"\n",
    "callbacks=[\n",
    "    keras.callbacks.EarlyStopping(monitor=\"val_loss\",\n",
    "                                  patience=15,\n",
    "                                  verbose=1,\n",
    "                                  mode=\"min\",\n",
    "                                  restore_best_weights=True),\n",
    "    keras.callbacks.ModelCheckpoint(filepath=best_model_file_name,\n",
    "                                    verbose=1,\n",
    "                                    save_best_only=True)\n",
    "]"
   ],
   "metadata": {
    "collapsed": false
   }
  },
  {
   "cell_type": "code",
   "execution_count": 16,
   "outputs": [
    {
     "name": "stdout",
     "output_type": "stream",
     "text": [
      "Epoch 1/50\n",
      "520/520 [==============================] - ETA: 0s - loss: 0.2027 - precision: 0.8960 - recall: 0.9586\n",
      "Epoch 1: val_loss improved from inf to 0.12984, saving model to models\\best_model_LSTM_with_GloVe.hdf5\n",
      "520/520 [==============================] - 20s 34ms/step - loss: 0.2027 - precision: 0.8960 - recall: 0.9586 - val_loss: 0.1298 - val_precision: 0.9179 - val_recall: 0.9830\n",
      "Epoch 2/50\n",
      "520/520 [==============================] - ETA: 0s - loss: 0.1094 - precision: 0.9478 - recall: 0.9739\n",
      "Epoch 2: val_loss improved from 0.12984 to 0.10556, saving model to models\\best_model_LSTM_with_GloVe.hdf5\n",
      "520/520 [==============================] - 18s 34ms/step - loss: 0.1094 - precision: 0.9478 - recall: 0.9739 - val_loss: 0.1056 - val_precision: 0.9527 - val_recall: 0.9694\n",
      "Epoch 3/50\n",
      "519/520 [============================>.] - ETA: 0s - loss: 0.0840 - precision: 0.9617 - recall: 0.9783\n",
      "Epoch 3: val_loss improved from 0.10556 to 0.08973, saving model to models\\best_model_LSTM_with_GloVe.hdf5\n",
      "520/520 [==============================] - 19s 36ms/step - loss: 0.0839 - precision: 0.9618 - recall: 0.9783 - val_loss: 0.0897 - val_precision: 0.9632 - val_recall: 0.9679\n",
      "Epoch 4/50\n",
      "519/520 [============================>.] - ETA: 0s - loss: 0.0657 - precision: 0.9715 - recall: 0.9793\n",
      "Epoch 4: val_loss did not improve from 0.08973\n",
      "520/520 [==============================] - 20s 38ms/step - loss: 0.0656 - precision: 0.9715 - recall: 0.9793 - val_loss: 0.0955 - val_precision: 0.9691 - val_recall: 0.9616\n",
      "Epoch 5/50\n",
      "519/520 [============================>.] - ETA: 0s - loss: 0.0509 - precision: 0.9798 - recall: 0.9838\n",
      "Epoch 5: val_loss did not improve from 0.08973\n",
      "520/520 [==============================] - 19s 37ms/step - loss: 0.0510 - precision: 0.9797 - recall: 0.9838 - val_loss: 0.1226 - val_precision: 0.9375 - val_recall: 0.9908\n",
      "Epoch 6/50\n",
      "520/520 [==============================] - ETA: 0s - loss: 0.0390 - precision: 0.9847 - recall: 0.9865\n",
      "Epoch 6: val_loss did not improve from 0.08973\n",
      "520/520 [==============================] - 21s 39ms/step - loss: 0.0390 - precision: 0.9847 - recall: 0.9865 - val_loss: 0.1052 - val_precision: 0.9570 - val_recall: 0.9723\n",
      "Epoch 7/50\n",
      "520/520 [==============================] - ETA: 0s - loss: 0.0261 - precision: 0.9904 - recall: 0.9926\n",
      "Epoch 7: val_loss did not improve from 0.08973\n",
      "520/520 [==============================] - 20s 39ms/step - loss: 0.0261 - precision: 0.9904 - recall: 0.9926 - val_loss: 0.1197 - val_precision: 0.9619 - val_recall: 0.9694\n",
      "Epoch 8/50\n",
      "519/520 [============================>.] - ETA: 0s - loss: 0.0183 - precision: 0.9934 - recall: 0.9930\n",
      "Epoch 8: val_loss did not improve from 0.08973\n",
      "520/520 [==============================] - 21s 40ms/step - loss: 0.0183 - precision: 0.9934 - recall: 0.9931 - val_loss: 0.1317 - val_precision: 0.9566 - val_recall: 0.9752\n",
      "Epoch 9/50\n",
      "520/520 [==============================] - ETA: 0s - loss: 0.0184 - precision: 0.9944 - recall: 0.9935\n",
      "Epoch 9: val_loss did not improve from 0.08973\n",
      "520/520 [==============================] - 19s 37ms/step - loss: 0.0184 - precision: 0.9944 - recall: 0.9935 - val_loss: 0.1523 - val_precision: 0.9558 - val_recall: 0.9776\n",
      "Epoch 10/50\n",
      "519/520 [============================>.] - ETA: 0s - loss: 0.0119 - precision: 0.9964 - recall: 0.9958\n",
      "Epoch 10: val_loss did not improve from 0.08973\n",
      "520/520 [==============================] - 19s 37ms/step - loss: 0.0119 - precision: 0.9964 - recall: 0.9958 - val_loss: 0.1649 - val_precision: 0.9565 - val_recall: 0.9718\n",
      "Epoch 11/50\n",
      "519/520 [============================>.] - ETA: 0s - loss: 0.0100 - precision: 0.9968 - recall: 0.9968\n",
      "Epoch 11: val_loss did not improve from 0.08973\n",
      "520/520 [==============================] - 19s 36ms/step - loss: 0.0100 - precision: 0.9968 - recall: 0.9968 - val_loss: 0.1682 - val_precision: 0.9666 - val_recall: 0.9694\n",
      "Epoch 12/50\n",
      "520/520 [==============================] - ETA: 0s - loss: 0.0089 - precision: 0.9967 - recall: 0.9971\n",
      "Epoch 12: val_loss did not improve from 0.08973\n",
      "520/520 [==============================] - 19s 36ms/step - loss: 0.0089 - precision: 0.9967 - recall: 0.9971 - val_loss: 0.1726 - val_precision: 0.9647 - val_recall: 0.9689\n",
      "Epoch 13/50\n",
      "519/520 [============================>.] - ETA: 0s - loss: 0.0091 - precision: 0.9969 - recall: 0.9978\n",
      "Epoch 13: val_loss did not improve from 0.08973\n",
      "520/520 [==============================] - 19s 37ms/step - loss: 0.0092 - precision: 0.9968 - recall: 0.9978 - val_loss: 0.2014 - val_precision: 0.9642 - val_recall: 0.9684\n",
      "Epoch 14/50\n",
      "520/520 [==============================] - ETA: 0s - loss: 0.0068 - precision: 0.9978 - recall: 0.9981\n",
      "Epoch 14: val_loss did not improve from 0.08973\n",
      "520/520 [==============================] - 21s 40ms/step - loss: 0.0068 - precision: 0.9978 - recall: 0.9981 - val_loss: 0.2025 - val_precision: 0.9637 - val_recall: 0.9548\n",
      "Epoch 15/50\n",
      "519/520 [============================>.] - ETA: 0s - loss: 0.0076 - precision: 0.9977 - recall: 0.9978\n",
      "Epoch 15: val_loss did not improve from 0.08973\n",
      "520/520 [==============================] - 20s 38ms/step - loss: 0.0076 - precision: 0.9977 - recall: 0.9978 - val_loss: 0.1830 - val_precision: 0.9624 - val_recall: 0.9713\n",
      "Epoch 16/50\n",
      "519/520 [============================>.] - ETA: 0s - loss: 0.0039 - precision: 0.9984 - recall: 0.9989\n",
      "Epoch 16: val_loss did not improve from 0.08973\n",
      "520/520 [==============================] - 20s 39ms/step - loss: 0.0039 - precision: 0.9984 - recall: 0.9989 - val_loss: 0.2135 - val_precision: 0.9632 - val_recall: 0.9674\n",
      "Epoch 17/50\n",
      "519/520 [============================>.] - ETA: 0s - loss: 0.0085 - precision: 0.9971 - recall: 0.9970\n",
      "Epoch 17: val_loss did not improve from 0.08973\n",
      "520/520 [==============================] - 21s 40ms/step - loss: 0.0085 - precision: 0.9971 - recall: 0.9970 - val_loss: 0.1946 - val_precision: 0.9545 - val_recall: 0.9796\n",
      "Epoch 18/50\n",
      "519/520 [============================>.] - ETA: 0s - loss: 0.0071 - precision: 0.9980 - recall: 0.9976Restoring model weights from the end of the best epoch: 3.\n",
      "\n",
      "Epoch 18: val_loss did not improve from 0.08973\n",
      "520/520 [==============================] - 20s 39ms/step - loss: 0.0071 - precision: 0.9980 - recall: 0.9976 - val_loss: 0.1770 - val_precision: 0.9586 - val_recall: 0.9786\n",
      "Epoch 18: early stopping\n"
     ]
    }
   ],
   "source": [
    "history = model.fit(X_train,\n",
    "                    y_train,\n",
    "                    epochs=50,\n",
    "                    validation_data=(X_test, y_test),\n",
    "                    callbacks=callbacks)"
   ],
   "metadata": {
    "collapsed": false
   }
  },
  {
   "cell_type": "code",
   "execution_count": 17,
   "outputs": [],
   "source": [
    "import matplotlib.pyplot as plt\n",
    "from matplotlib import rcParams\n",
    "plt.rcParams['figure.figsize'] = [10,10]"
   ],
   "metadata": {
    "collapsed": false
   }
  },
  {
   "cell_type": "code",
   "execution_count": 18,
   "outputs": [
    {
     "data": {
      "text/plain": "<Figure size 1000x1000 with 1 Axes>",
      "image/png": "[encoded data removed]"
     },
     "metadata": {},
     "output_type": "display_data"
    }
   ],
   "source": [
    "# Plot Loss\n",
    "\n",
    "metric_to_plot = \"loss\"\n",
    "plt.plot(range(1, max(history.epoch) + 2), history.history[metric_to_plot], \".:\", label=\"Training loss\")\n",
    "plt.plot(range(1, max(history.epoch) + 2), history.history[\"val_\" + metric_to_plot], \".:\", label=\"Validation loss\")\n",
    "plt.title('Training and Validation Loss')\n",
    "plt.xlim([1,max(history.epoch) + 2])\n",
    "plt.xticks(range(1, max(history.epoch) + 2))\n",
    "plt.legend()\n",
    "plt.show()"
   ],
   "metadata": {
    "collapsed": false
   }
  },
  {
   "cell_type": "code",
   "execution_count": 19,
   "outputs": [
    {
     "name": "stdout",
     "output_type": "stream",
     "text": [
      "130/130 [==============================] - 2s 12ms/step\n",
      "Accuracy:  0.9658653846153846\n",
      "Precision:  0.9632495164410058\n",
      "Recall:  0.967930029154519\n",
      "F1 Score:  0.9655841008240427\n"
     ]
    }
   ],
   "source": [
    "from sklearn.metrics import precision_score, recall_score, f1_score, accuracy_score\n",
    "\n",
    "model = keras.models.load_model(best_model_file_name)\n",
    "y_pred = (model.predict(X_test) > 0.5).astype(\"int32\")\n",
    "print('Accuracy: ', accuracy_score(y_test, y_pred))\n",
    "print('Precision: ', precision_score(y_test, y_pred))\n",
    "print('Recall: ', recall_score(y_test, y_pred))\n",
    "print('F1 Score: ', f1_score(y_test, y_pred))"
   ],
   "metadata": {
    "collapsed": false
   }
  },
  {
   "cell_type": "code",
   "execution_count": 20,
   "outputs": [
    {
     "name": "stdout",
     "output_type": "stream",
     "text": [
      "Keras weights file (<HDF5 file \"variables.h5\" (mode r+)>) saving:\n",
      "...layers\\dense\n",
      "......vars\n",
      ".........0\n",
      ".........1\n",
      "...layers\\dense_1\n",
      "......vars\n",
      ".........0\n",
      ".........1\n",
      "...layers\\dropout\n",
      "......vars\n",
      "...layers\\dropout_1\n",
      "......vars\n",
      "...layers\\embedding\n",
      "......vars\n",
      ".........0\n",
      "...layers\\flatten\n",
      "......vars\n",
      "...layers\\lstm\n",
      "......vars\n",
      "...layers\\lstm\\cell\n",
      "......vars\n",
      ".........0\n",
      ".........1\n",
      ".........2\n",
      "...metrics\\mean\n",
      "......vars\n",
      ".........0\n",
      ".........1\n",
      "...metrics\\precision\n",
      "......vars\n",
      ".........0\n",
      ".........1\n",
      "...metrics\\recall\n",
      "......vars\n",
      ".........0\n",
      ".........1\n",
      "...optimizer\n",
      "......vars\n",
      ".........0\n",
      ".........1\n",
      ".........10\n",
      ".........11\n",
      ".........12\n",
      ".........13\n",
      ".........14\n",
      ".........2\n",
      ".........3\n",
      ".........4\n",
      ".........5\n",
      ".........6\n",
      ".........7\n",
      ".........8\n",
      ".........9\n",
      "...vars\n",
      "Keras model archive saving:\n",
      "File Name                                             Modified             Size\n",
      "config.json                                    2023-03-20 20:21:22         3928\n",
      "metadata.json                                  2023-03-20 20:21:22           64\n",
      "variables.h5                                   2023-03-20 20:21:22    307369920\n"
     ]
    },
    {
     "data": {
      "text/plain": "['fake_news_model_pipe.pkl']"
     },
     "execution_count": 20,
     "metadata": {},
     "output_type": "execute_result"
    }
   ],
   "source": [
    "# Create model file\n",
    "import joblib\n",
    "joblib.dump(model, 'fake_news_model_pipe.pkl')"
   ],
   "metadata": {
    "collapsed": false
   }
  },
  {
   "cell_type": "markdown",
   "source": [
    "# Process text to predict label"
   ],
   "metadata": {
    "collapsed": false
   }
  },
  {
   "cell_type": "code",
   "execution_count": 35,
   "outputs": [],
   "source": [
    "sample_data = \"\"\" Ever get the feeling your life circles the roundabout rather than heads in a straight line toward the intended destination? [Hillary Clinton remains the big woman on campus in leafy, liberal Wellesley, Massachusetts. Everywhere else votes her most likely to don her inauguration dress for the remainder of her days the way Miss Havisham forever wore that wedding dress.  Speaking of Great Expectations, Hillary Rodham overflowed with them 48 years ago when she first addressed a Wellesley graduating class. The president of the college informed those gathered in 1969 that the students needed â€œno debate so far as I could ascertain as to who their spokesman was to beâ€ (kind of the like the Democratic primaries in 2016 minus the   terms unknown then even at a Seven Sisters school). â€œI am very glad that Miss Adams made it clear that what I am speaking for today is all of us â€”  the 400 of us,â€ Miss Rodham told her classmates. After appointing herself Edger Bergen to the Charlie McCarthys and Mortimer Snerds in attendance, the    bespectacled in granny glasses (awarding her matronly wisdom â€”  or at least John Lennon wisdom) took issue with the previous speaker. Despite becoming the first   to win election to a seat in the U. S. Senate since Reconstruction, Edward Brooke came in for criticism for calling for â€œempathyâ€ for the goals of protestors as he criticized tactics. Though Clinton in her senior thesis on Saul Alinsky lamented â€œBlack Power demagoguesâ€ and â€œelitist arrogance and repressive intoleranceâ€ within the New Left, similar words coming out of a Republican necessitated a brief rebuttal. â€œTrust,â€ Rodham ironically observed in 1969, â€œthis is one word that when I asked the class at our rehearsal what it was they wanted me to say for them, everyone came up to me and said â€˜Talk about trust, talk about the lack of trust both for us and the way we feel about others. Talk about the trust bust.â€™ What can you say about it? What can you say about a feeling that permeates a generation and that perhaps is not even understood by those who are distrusted?â€ The â€œtrust bustâ€ certainly busted Clintonâ€™s 2016 plans. She certainly did not even understand that people distrusted her. After Whitewater, Travelgate, the vast   conspiracy, Benghazi, and the missing emails, Clinton found herself the distrusted voice on Friday. There was a load of compromising on the road to the broadening of her political horizons. And distrust from the American people â€”  Trump edged her 48 percent to 38 percent on the question immediately prior to Novemberâ€™s election â€”  stood as a major reason for the closing of those horizons. Clinton described her vanquisher and his supporters as embracing a â€œlie,â€ a â€œcon,â€ â€œalternative facts,â€ and â€œa   assault on truth and reason. â€ She failed to explain why the American people chose his lies over her truth. â€œAs the history majors among you here today know all too well, when people in power invent their own facts and attack those who question them, it can mark the beginning of the end of a free society,â€ she offered. â€œThat is not hyperbole. â€ Like so many people to emerge from the 1960s, Hillary Clinton embarked upon a long, strange trip. From high school Goldwater Girl and Wellesley College Republican president to Democratic politician, Clinton drank in the times and the place that gave her a degree. More significantly, she went from idealist to cynic, as a comparison of her two Wellesley commencement addresses show. Way back when, she lamented that â€œfor too long our leaders have viewed politics as the art of the possible, and the challenge now is to practice politics as the art of making what appears to be impossible possible. â€ Now, as the big woman on campus but the odd woman out of the White House, she wonders how her current station is even possible. â€œWhy arenâ€™t I 50 points ahead?â€ she asked in September. In May she asks why she isnâ€™t president. The woman famously dubbed a â€œcongenital liarâ€ by Bill Safire concludes that lies did her in â€”  theirs, mind you, not hers. Getting stood up on Election Day, like finding yourself the jilted bride on your wedding day, inspires dangerous delusions.\"\"\""
   ],
   "metadata": {
    "collapsed": false
   }
  },
  {
   "cell_type": "code",
   "execution_count": 36,
   "outputs": [],
   "source": [
    "# Text Cleaning\n",
    "import re\n",
    "from string import punctuation\n",
    "# Remove extra spaces, tabs, and line breaks\n",
    "sample_data = \" \".join(sample_data.split())\n",
    "# Remove punctuation\n",
    "sample_data = re.sub(f\"[{re.escape(punctuation)}]\", \"\", sample_data)\n",
    "# Remove numbers\n",
    "sample_data = re.sub(r\"\\b[0-9]+\\b\\s*\", \"\", sample_data)\n",
    "# Remove non-alphabetic characters and extra spaces\n",
    "sample_data = \" \".join([w for w in sample_data.split() if w.isalpha()])"
   ],
   "metadata": {
    "collapsed": false
   }
  },
  {
   "cell_type": "code",
   "execution_count": 37,
   "outputs": [],
   "source": [
    "# Expand contractions and then convert to lower-case.\n",
    "import contractions\n",
    "word_list = []\n",
    "for each_word in sample_data.split(' '):\n",
    "    try:\n",
    "        word_list.append(contractions.fix(each_word).lower())\n",
    "    except:\n",
    "        print(\"Error in contractions\")\n",
    "sample_data = \" \".join(word_list)"
   ],
   "metadata": {
    "collapsed": false
   }
  },
  {
   "cell_type": "code",
   "execution_count": 38,
   "outputs": [],
   "source": [
    "import pandas as pd\n",
    "sample_df = pd.DataFrame([sample_data], columns=['all_info'])"
   ],
   "metadata": {
    "collapsed": false
   }
  },
  {
   "cell_type": "code",
   "execution_count": 39,
   "outputs": [],
   "source": [
    "# Word Tokenization\n",
    "import tensorflow as tf\n",
    "import tensorflow.keras as keras\n",
    "from tensorflow.keras.preprocessing.text import Tokenizer"
   ],
   "metadata": {
    "collapsed": false
   }
  },
  {
   "cell_type": "code",
   "execution_count": 40,
   "outputs": [],
   "source": [
    "# Replace out of vocabulary token using oov_token=<OOV>\n",
    "# Creates a vocabulary index based on word frequency\n",
    "tokenizer = Tokenizer(oov_token = \"<OOV>\", num_words=6000)"
   ],
   "metadata": {
    "collapsed": false
   }
  },
  {
   "cell_type": "code",
   "execution_count": 41,
   "outputs": [],
   "source": [
    "# Fit the tokenizer on the texts and convert them into\n",
    "# sequences of integers which uses the vocabulary index\n",
    "# created by fitting the tokenizer\n",
    "tokenizer.fit_on_texts(sample_df['all_info'])"
   ],
   "metadata": {
    "collapsed": false
   }
  },
  {
   "cell_type": "code",
   "execution_count": 42,
   "outputs": [],
   "source": [
    "from tensorflow.keras.preprocessing.sequence import pad_sequences\n",
    "max_length = 40\n",
    "vocab_size = 6000\n",
    "\n",
    "sequences_sample = tokenizer.texts_to_sequences(sample_df['all_info'])\n",
    "padded_sample = pad_sequences(sequences_sample, padding = 'post', maxlen=max_length)"
   ],
   "metadata": {
    "collapsed": false
   }
  },
  {
   "cell_type": "code",
   "execution_count": 45,
   "outputs": [
    {
     "name": "stdout",
     "output_type": "stream",
     "text": [
      "Keras model archive loading:\n",
      "File Name                                             Modified             Size\n",
      "config.json                                    2023-03-20 20:21:22         3928\n",
      "metadata.json                                  2023-03-20 20:21:22           64\n",
      "variables.h5                                   2023-03-20 20:21:22    307369920\n",
      "Keras weights file (<HDF5 file \"variables.h5\" (mode r)>) loading:\n",
      "...layers\\dense\n",
      "......vars\n",
      ".........0\n",
      ".........1\n",
      "...layers\\dense_1\n",
      "......vars\n",
      ".........0\n",
      ".........1\n",
      "...layers\\dropout\n",
      "......vars\n",
      "...layers\\dropout_1\n",
      "......vars\n",
      "...layers\\embedding\n",
      "......vars\n",
      ".........0\n",
      "...layers\\flatten\n",
      "......vars\n",
      "...layers\\lstm\n",
      "......vars\n",
      "...layers\\lstm\\cell\n",
      "......vars\n",
      ".........0\n",
      ".........1\n",
      ".........2\n",
      "...metrics\\mean\n",
      "......vars\n",
      ".........0\n",
      ".........1\n",
      "...metrics\\precision\n",
      "......vars\n",
      ".........0\n",
      ".........1\n",
      "...metrics\\recall\n",
      "......vars\n",
      ".........0\n",
      ".........1\n",
      "...optimizer\n",
      "......vars\n",
      ".........0\n",
      ".........1\n",
      ".........10\n",
      ".........11\n",
      ".........12\n",
      ".........13\n",
      ".........14\n",
      ".........2\n",
      ".........3\n",
      ".........4\n",
      ".........5\n",
      ".........6\n",
      ".........7\n",
      ".........8\n",
      ".........9\n",
      "...vars\n",
      "WARNING:tensorflow:5 out of the last 5 calls to <function Model.make_predict_function.<locals>.predict_function at 0x00000175014664D0> triggered tf.function retracing. Tracing is expensive and the excessive number of tracings could be due to (1) creating @tf.function repeatedly in a loop, (2) passing tensors with different shapes, (3) passing Python objects instead of tensors. For (1), please define your @tf.function outside of the loop. For (2), @tf.function has reduce_retracing=True option that can avoid unnecessary retracing. For (3), please refer to https://www.tensorflow.org/guide/function#controlling_retracing and https://www.tensorflow.org/api_docs/python/tf/function for  more details.\n",
      "1/1 [==============================] - 0s 460ms/step\n"
     ]
    }
   ],
   "source": [
    "import joblib\n",
    "fake_news_model = joblib.load('fake_news_model_pipe.pkl')\n",
    "prediction = (fake_news_model.predict(padded_sample)> 0.5).astype(\"int32\")"
   ],
   "metadata": {
    "collapsed": false
   }
  },
  {
   "cell_type": "code",
   "execution_count": 46,
   "outputs": [
    {
     "name": "stdout",
     "output_type": "stream",
     "text": [
      "[[1]]\n"
     ]
    }
   ],
   "source": [
    "print(prediction)"
   ],
   "metadata": {
    "collapsed": false
   }
  }
 ],
 "metadata": {
  "kernelspec": {
   "display_name": "Python 3",
   "language": "python",
   "name": "python3"
  },
  "language_info": {
   "codemirror_mode": {
    "name": "ipython",
    "version": 2
   },
   "file_extension": ".py",
   "mimetype": "text/x-python",
   "name": "python",
   "nbconvert_exporter": "python",
   "pygments_lexer": "ipython2",
   "version": "2.7.6"
  }
 },
 "nbformat": 4,
 "nbformat_minor": 0
}
