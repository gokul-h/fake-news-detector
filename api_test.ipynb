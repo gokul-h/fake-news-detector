{
 "cells": [
  {
   "cell_type": "code",
   "execution_count": 9,
   "metadata": {
    "collapsed": true
   },
   "outputs": [],
   "source": [
    "import json"
   ]
  },
  {
   "cell_type": "code",
   "execution_count": 24,
   "outputs": [],
   "source": [
    "data = [\n",
    "    {\n",
    "    'text': \"\"\"Sample text here display to just inform its just fake\"\"\",\n",
    "    }\n",
    "]"
   ],
   "metadata": {
    "collapsed": false
   }
  },
  {
   "cell_type": "code",
   "execution_count": 27,
   "outputs": [
    {
     "name": "stdout",
     "output_type": "stream",
     "text": [
      "Sample text here display to just inform its just fake\n"
     ]
    }
   ],
   "source": [
    "json_data = json.dumps(data)\n",
    "data = json.loads(json_data)\n",
    "print(data[0]['text'])"
   ],
   "metadata": {
    "collapsed": false
   }
  },
  {
   "cell_type": "code",
   "execution_count": null,
   "outputs": [],
   "source": [
    "data = {'url': 'https://edition.cnn.com/2023/03/20/world/ipcc-synthesis-report-climate-intl/index.html'}\n"
   ],
   "metadata": {
    "collapsed": false
   }
  },
  {
   "cell_type": "markdown",
   "source": [
    "# Web Scraping test"
   ],
   "metadata": {
    "collapsed": false
   }
  },
  {
   "cell_type": "code",
   "execution_count": 12,
   "outputs": [
    {
     "name": "stdout",
     "output_type": "stream",
     "text": [
      "\n",
      "Sign up for CNN’s Life, But Greener newsletter. Our limited newsletter series guides you on how to minimize your personal role in the climate crisis — and reduce your eco-anxiety.\n",
      "\n",
      "      The world is rapidly approaching catastrophic levels of heating with international climate goals set to slip out of reach unless immediate and radical action is taken, according to a new UN-backed report. \n",
      "  \n",
      "      “The climate time-bomb is ticking,” said António Guterres, Secretary-General of the United Nations, in a statement to mark the launch of the Intergovernmental Panel on Climate Change’s synthesis report on Monday. “Humanity is on thin ice – and that ice is melting fast,” he added. \n",
      "  \n",
      "      The report draws on the findings of hundreds of scientists to provide a comprehensive assessment of how the climate crisis is unfolding.\n",
      "  \n",
      "      The science is not new – the report pulls together what the IPCC has already set out in a cluster of other reports over the last few years – but it paints a very stark picture of where the world is heading.\n",
      "  \n",
      "      “This report is the most dire and troubling assessment yet of the spiraling climate impacts we all face if systemic changes are not made now,” Sara Shaw, program coordinator at Friends of the Earth International, said in a statement.\n",
      "  \n",
      "      The impacts of planet-warming pollution are already more severe than expected and we are hurtling towards increasingly dangerous and irreversible consequences, the report says. \n",
      "  \n",
      "      While the goal of limiting global warming to 1.5 degrees Celsius (2.7 degrees Fahrenheit) above preindustrial levels is still possible, the report noted, the pathway to achieving it is rapidly closing as global production of planet-heating pollution continues to increase – emissions grew by nearly 1% last year.\n",
      "  \n",
      "      Concentrations of carbon pollution in the atmosphere are at their highest level for more than two million years and the rate of temperature rise over the last half a century is the highest in 2,000 years. \n",
      "  \n",
      "      The impacts of the climate crisis continue to fall hardest on poorer, vulnerable countries that have done least to cause it.\n",
      "  \n",
      "      “Our planet is already reeling from severe climate impacts, from scorching heat waves and destructive storms to severe droughts and water shortages,” said Ani Dasgupta, president and CEO of World Resources Institute, in a statement. \n",
      "  \n",
      "      The biggest threat to climate change action is the world’s continued addiction to burning fossil fuels, which still make up more than 80% of the world’s energy and 75% of human-caused planet-heating pollution. \n",
      "  \n",
      "      Despite the International Energy Agency saying in 2021 that there can now be no new fossil fuel developments if the world is to meet climate commitments, governments are continuing to approve oil, gas and coal projects. \n",
      "  \n",
      "      The Biden administration has just greenlit the hugely controversial Willow oil drilling project in Alaska. Once operational, it is projected to produce enough oil to release 9.2 million metric tons of planet-warming carbon pollution a year – equivalent to adding 2 million gas-powered cars to the roads.\n",
      "  \n",
      "      Arati Prabhakar, the director of the White House Office of Science and Technology Policy, said in a statement that the new UN  report shows “the Earth’s future is not predetermined.”\n",
      "  \n",
      "      “It underscores the urgent need for leaders in every sector and every country to step up and take bold climate action,” Prabhakar said.\n",
      "  \n",
      "      China is planning a huge expansion of coal – the dirtiest of fossil fuels. In 2022, it granted permits for coal production across 82 sites, equal to starting two large coal power plants each week, according to a report last month. \n",
      "  \n",
      "      But Monday’s report also set out pathways to keep the world on track to limit warming to within 1.5 degrees. “This IPCC report is both a blistering condemnation of major emitters’ inaction and a sound blueprint for a much safer and more equitable world,” Dasgupta said.\n",
      "  \n",
      "      Staving off the worst impacts of the climate crisis will require radical shifts across every sector of the economy and society, according to the report.\n",
      "  \n",
      "      It called for deep cuts to planet-heating pollution by moving away from fossil fuels and investing in renewable energy. To limit warming to 1.5 degrees, global levels of planet-heating pollution must fall by 60% by 2035 compared with 2019, according to the report.\n",
      "  \n",
      "      It emphasized the need for greater investment to build resilience to climate impacts, and increased support for people struggling with climate-related losses, especially in the most vulnerable countries.\n",
      "  \n",
      "      The report also said we need to remove carbon from the air, including potentially through technology such as “direct air capture” – removing carbon directly from the air and storing it, possibly by injecting it underground. \n",
      "  \n",
      "      This technology does remain divisive, however, as some believe it distracts from policies to cut planet-heating pollution.\n",
      "  \n",
      "      “In my country, Sri Lanka, the impacts of climate change are being felt now. We have no time to chase fairy tales like carbon removal technologies to suck carbon out of the air,” Hemantha Withanage, chair of Friends of the Earth International, said in a statement.\n",
      "  \n",
      "      Guterres called on all countries to “massively fast-track climate efforts” and, specifically, for rich countries to hit “the fast-forward button” on commitments to reach net-zero – which means removing as much plant-heating pollution from the atmosphere as they emit.\n",
      "  \n",
      "      For the first time, he said developed countries must reach net-zero as close to 2040 as possible, far earlier than the 2050 deadline a lot of countries – including the US and the UK – have pledged to meet.\n",
      "  \n",
      "      “Today’s IPCC report is a how-to guide to defuse the climate time-bomb,” Guterres said. “But it will take a quantum leap in climate action,” he added. \n",
      "  \n",
      "      The report, which was signed off over the weekend by representatives from the UN’s nearly 200 countries, will feed into the next UN climate conference, COP28, in Dubai at the end of the year. The conference will include the first “global stocktake” from the Paris Climate Agreement, an assessment of progress toward addressing the climate crisis and averting climate catastrophe.\n",
      "  \n"
     ]
    }
   ],
   "source": [
    "from urllib.request import urlopen\n",
    "from urllib.error import HTTPError\n",
    "from bs4 import BeautifulSoup\n",
    "\n",
    "def getContent(url):\n",
    "    try:\n",
    "        html = urlopen(url)\n",
    "        bs = BeautifulSoup(html, \"html.parser\")\n",
    "    except HTTPError as e:\n",
    "        return None\n",
    "    try:\n",
    "        allText = bs.find_all('p', {'class':{'paragraph','inline-placeholder'}})\n",
    "        final_output = \"\"\n",
    "        for text in allText:\n",
    "            final_output = final_output + text.get_text()\n",
    "    except AttributeError as e:\n",
    "        return None\n",
    "    return final_output\n",
    "\n",
    "text_scraped = getContent(\"https://edition.cnn.com/2023/03/20/world/ipcc-synthesis-report-climate-intl/index.html\")\n",
    "print(text_scraped)"
   ],
   "metadata": {
    "collapsed": false
   }
  }
 ],
 "metadata": {
  "kernelspec": {
   "display_name": "Python 3",
   "language": "python",
   "name": "python3"
  },
  "language_info": {
   "codemirror_mode": {
    "name": "ipython",
    "version": 2
   },
   "file_extension": ".py",
   "mimetype": "text/x-python",
   "name": "python",
   "nbconvert_exporter": "python",
   "pygments_lexer": "ipython2",
   "version": "2.7.6"
  }
 },
 "nbformat": 4,
 "nbformat_minor": 0
}
